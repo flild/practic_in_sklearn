{
 "cells": [
  {
   "cell_type": "code",
   "execution_count": 1,
   "id": "c0e1aba0",
   "metadata": {},
   "outputs": [],
   "source": [
    "import pandas as pd\n",
    "import numpy as np\n",
    "\n",
    "start_data = pd.read_excel('data_with_point.xlsx')\n",
    "mas_of_letters = []\n",
    "for row in start_data.iterrows():\n",
    "    if row[1][8] == 'Т':\n",
    "        mas_of_letters.append(1)\n",
    "    elif row[1][8] == 'С':\n",
    "        mas_of_letters.append(2)\n",
    "    else:\n",
    "        mas_of_letters.append(3)\n",
    "start_data['J'] = mas_of_letters"
   ]
  },
  {
   "cell_type": "code",
   "execution_count": 2,
   "id": "b6a3c827",
   "metadata": {},
   "outputs": [],
   "source": [
    "def normal_func(mas):\n",
    "    pass\n",
    "    return mas"
   ]
  },
  {
   "cell_type": "code",
   "execution_count": 7,
   "id": "e534775b",
   "metadata": {},
   "outputs": [],
   "source": [
    "def handler_func_update(mas_phonk):\n",
    "    model_mas = {}\n",
    "    for name, val in mas_phonk.items():\n",
    "        in_process_data = start_data.drop('Points', axis=1)\n",
    "        for letter in val[1]:\n",
    "            in_process_data[letter] = val[0](in_process_data[letter])\n",
    "    prepared_data = pd.DataFrame(in_process_data)\n",
    "    writer = pd.ExcelWriter('prepared_data.xlsx', engine='xlsxwriter')\n",
    "    prepared_data.to_excel(writer,'sheet1')\n",
    "    writer.save()   \n",
    "    print('Готово')"
   ]
  },
  {
   "cell_type": "code",
   "execution_count": 8,
   "id": "7732e4eb",
   "metadata": {},
   "outputs": [
    {
     "name": "stdout",
     "output_type": "stream",
     "text": [
      "Выберите предобработку данных \\(цифру или имя\\):\n",
      " 1. Тангес\n",
      " 2. Синус\n",
      " 3. Косинус\n",
      " 4. Корень\n",
      " 5. Без обработки\n",
      "4\n",
      "Готово\n"
     ]
    }
   ],
   "source": [
    "while True:\n",
    "    answer = input(f'Выберите предобработку данных \\(цифру или имя\\):\\n 1. Тангес\\n 2. Синус\\n 3. Косинус\\n 4. Корень\\n 5. Без обработки\\n')\n",
    "\n",
    "    if answer == '1' or answer.lower() == 'тангес':\n",
    "        handler_func_update({'Тангес': [np.tan, ['D','F','G']]})\n",
    "        break\n",
    "    elif answer == '2' or answer.lower() == 'синус':\n",
    "        handler_func_update({'Синус' : [np.sin, ['D','G','J']]})\n",
    "        break\n",
    "    elif answer == '3' or answer.lower() == 'косинус':\n",
    "        handler_func_update({'Косинус': [np.cos, ['D','G','J']]})\n",
    "        break\n",
    "    elif answer == '4' or answer.lower() == 'корень':\n",
    "        handler_func_update({'Корень' : [np.sqrt, ['B','E','G']]})\n",
    "        break\n",
    "    elif answer == '5' or answer.lower() == 'Без обработки':\n",
    "        handler_func_update({'Без обработки' : [normal_func, ['F']]})\n",
    "        break\n",
    "    else:\n",
    "        print('Ошибка ввода')"
   ]
  },
  {
   "cell_type": "code",
   "execution_count": null,
   "id": "c76c5ef0",
   "metadata": {},
   "outputs": [],
   "source": []
  },
  {
   "cell_type": "code",
   "execution_count": null,
   "id": "4e76b586",
   "metadata": {},
   "outputs": [],
   "source": []
  }
 ],
 "metadata": {
  "kernelspec": {
   "display_name": "Python 3",
   "language": "python",
   "name": "python3"
  },
  "language_info": {
   "codemirror_mode": {
    "name": "ipython",
    "version": 3
   },
   "file_extension": ".py",
   "mimetype": "text/x-python",
   "name": "python",
   "nbconvert_exporter": "python",
   "pygments_lexer": "ipython3",
   "version": "3.8.8"
  }
 },
 "nbformat": 4,
 "nbformat_minor": 5
}
